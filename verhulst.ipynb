{
 "cells": [
  {
   "cell_type": "code",
   "execution_count": 8,
   "id": "ad95149f",
   "metadata": {},
   "outputs": [],
   "source": [
    "from sympy import Function, dsolve, Eq, Derivative, symbols, plot, init_printing, cos, sqrt\n",
    "import numpy as np\n",
    "import matplotlib.pyplot as plt\n",
    "from sympy.solvers.ode.systems import dsolve_system\n",
    "import scipy\n",
    "from scipy.integrate import odeint\n",
    "import math\n",
    "\n",
    "\n",
    "plt.style.use('ggplot')\n",
    "# init_printing(use_latex=True)"
   ]
  },
  {
   "cell_type": "code",
   "execution_count": 9,
   "id": "7f81aa9e",
   "metadata": {},
   "outputs": [],
   "source": [
    "t = symbols('t')\n",
    "P = Function('P')\n",
    "K = 1000\n",
    "P0 = 100\n",
    "k = 0.3\n",
    "eq = Eq(P(t).diff(t), k*P(t)*(1-(P(t)/K)))"
   ]
  },
  {
   "cell_type": "code",
   "execution_count": 10,
   "id": "2f9af731",
   "metadata": {},
   "outputs": [
    {
     "data": {
      "image/png": "[encoded data removed]",
      "text/latex": [
       "$\\displaystyle \\frac{d}{d t} P{\\left(t \\right)} = 0.3 \\cdot \\left(1 - \\frac{P{\\left(t \\right)}}{1000}\\right) P{\\left(t \\right)}$"
      ],
      "text/plain": [
       "d              ⎛    P(t)⎞     \n",
       "──(P(t)) = 0.3⋅⎜1 - ────⎟⋅P(t)\n",
       "dt             ⎝    1000⎠     "
      ]
     },
     "execution_count": 10,
     "metadata": {},
     "output_type": "execute_result"
    }
   ],
   "source": [
    "eq"
   ]
  },
  {
   "cell_type": "code",
   "execution_count": 11,
   "id": "a2e0dda9",
   "metadata": {},
   "outputs": [
    {
     "ename": "NotImplementedError",
     "evalue": "Initial conditions produced too many solutions for constants",
     "output_type": "error",
     "traceback": [
      "\u001b[0;31m---------------------------------------------------------------------------\u001b[0m",
      "\u001b[0;31mNotImplementedError\u001b[0m                       Traceback (most recent call last)",
      "Input \u001b[0;32mIn [11]\u001b[0m, in \u001b[0;36m<cell line: 2>\u001b[0;34m()\u001b[0m\n\u001b[1;32m      1\u001b[0m \u001b[38;5;66;03m# sol = dsolve(eq, ics={P(0):P0})\u001b[39;00m\n\u001b[0;32m----> 2\u001b[0m \u001b[43mdsolve\u001b[49m\u001b[43m(\u001b[49m\u001b[43meq\u001b[49m\u001b[43m,\u001b[49m\u001b[43m \u001b[49m\u001b[43mics\u001b[49m\u001b[38;5;241;43m=\u001b[39;49m\u001b[43m{\u001b[49m\u001b[43mP\u001b[49m\u001b[43m(\u001b[49m\u001b[38;5;241;43m0\u001b[39;49m\u001b[43m)\u001b[49m\u001b[43m:\u001b[49m\u001b[43mP0\u001b[49m\u001b[43m}\u001b[49m\u001b[43m)\u001b[49m\n",
      "File \u001b[0;32m~/Projects/msd/.venv/lib/python3.9/site-packages/sympy/solvers/ode/ode.py:640\u001b[0m, in \u001b[0;36mdsolve\u001b[0;34m(eq, func, hint, simplify, ics, xi, eta, x0, n, **kwargs)\u001b[0m\n\u001b[1;32m    637\u001b[0m \u001b[38;5;28;01melse\u001b[39;00m:\n\u001b[1;32m    638\u001b[0m     \u001b[38;5;66;03m# The key 'hint' stores the hint needed to be solved for.\u001b[39;00m\n\u001b[1;32m    639\u001b[0m     hint \u001b[38;5;241m=\u001b[39m hints[\u001b[38;5;124m'\u001b[39m\u001b[38;5;124mhint\u001b[39m\u001b[38;5;124m'\u001b[39m]\n\u001b[0;32m--> 640\u001b[0m     \u001b[38;5;28;01mreturn\u001b[39;00m \u001b[43m_helper_simplify\u001b[49m\u001b[43m(\u001b[49m\u001b[43meq\u001b[49m\u001b[43m,\u001b[49m\u001b[43m \u001b[49m\u001b[43mhint\u001b[49m\u001b[43m,\u001b[49m\u001b[43m \u001b[49m\u001b[43mhints\u001b[49m\u001b[43m,\u001b[49m\u001b[43m \u001b[49m\u001b[43msimplify\u001b[49m\u001b[43m,\u001b[49m\u001b[43m \u001b[49m\u001b[43mics\u001b[49m\u001b[38;5;241;43m=\u001b[39;49m\u001b[43mics\u001b[49m\u001b[43m)\u001b[49m\n",
      "File \u001b[0;32m~/Projects/msd/.venv/lib/python3.9/site-packages/sympy/solvers/ode/ode.py:695\u001b[0m, in \u001b[0;36m_helper_simplify\u001b[0;34m(eq, hint, match, simplify, ics, **kwargs)\u001b[0m\n\u001b[1;32m    693\u001b[0m \u001b[38;5;28;01mif\u001b[39;00m ics \u001b[38;5;129;01mand\u001b[39;00m \u001b[38;5;124m'\u001b[39m\u001b[38;5;124mpower_series\u001b[39m\u001b[38;5;124m'\u001b[39m \u001b[38;5;129;01mnot\u001b[39;00m \u001b[38;5;129;01min\u001b[39;00m hint:\n\u001b[1;32m    694\u001b[0m     \u001b[38;5;28;01mif\u001b[39;00m \u001b[38;5;28misinstance\u001b[39m(rv, (Expr, Eq)):\n\u001b[0;32m--> 695\u001b[0m         solved_constants \u001b[38;5;241m=\u001b[39m \u001b[43msolve_ics\u001b[49m\u001b[43m(\u001b[49m\u001b[43m[\u001b[49m\u001b[43mrv\u001b[49m\u001b[43m]\u001b[49m\u001b[43m,\u001b[49m\u001b[43m \u001b[49m\u001b[43m[\u001b[49m\u001b[43mr\u001b[49m\u001b[43m[\u001b[49m\u001b[38;5;124;43m'\u001b[39;49m\u001b[38;5;124;43mfunc\u001b[39;49m\u001b[38;5;124;43m'\u001b[39;49m\u001b[43m]\u001b[49m\u001b[43m]\u001b[49m\u001b[43m,\u001b[49m\u001b[43m \u001b[49m\u001b[43mcons\u001b[49m\u001b[43m(\u001b[49m\u001b[43mrv\u001b[49m\u001b[43m)\u001b[49m\u001b[43m,\u001b[49m\u001b[43m \u001b[49m\u001b[43mics\u001b[49m\u001b[43m)\u001b[49m\n\u001b[1;32m    696\u001b[0m         rv \u001b[38;5;241m=\u001b[39m rv\u001b[38;5;241m.\u001b[39msubs(solved_constants)\n\u001b[1;32m    697\u001b[0m     \u001b[38;5;28;01melse\u001b[39;00m:\n",
      "File \u001b[0;32m~/Projects/msd/.venv/lib/python3.9/site-packages/sympy/solvers/ode/ode.py:808\u001b[0m, in \u001b[0;36msolve_ics\u001b[0;34m(sols, funcs, constants, ics)\u001b[0m\n\u001b[1;32m    805\u001b[0m     \u001b[38;5;28;01mraise\u001b[39;00m \u001b[38;5;167;01mValueError\u001b[39;00m(\u001b[38;5;124m\"\u001b[39m\u001b[38;5;124mInitial conditions did not produce any solutions for constants. Perhaps they are degenerate.\u001b[39m\u001b[38;5;124m\"\u001b[39m)\n\u001b[1;32m    807\u001b[0m \u001b[38;5;28;01mif\u001b[39;00m \u001b[38;5;28mlen\u001b[39m(solved_constants) \u001b[38;5;241m>\u001b[39m \u001b[38;5;241m1\u001b[39m:\n\u001b[0;32m--> 808\u001b[0m     \u001b[38;5;28;01mraise\u001b[39;00m \u001b[38;5;167;01mNotImplementedError\u001b[39;00m(\u001b[38;5;124m\"\u001b[39m\u001b[38;5;124mInitial conditions produced too many solutions for constants\u001b[39m\u001b[38;5;124m\"\u001b[39m)\n\u001b[1;32m    810\u001b[0m \u001b[38;5;28;01mreturn\u001b[39;00m solved_constants[\u001b[38;5;241m0\u001b[39m]\n",
      "\u001b[0;31mNotImplementedError\u001b[0m: Initial conditions produced too many solutions for constants"
     ]
    }
   ],
   "source": [
    "# sol = dsolve(eq, ics={P(0):P0})\n",
    "dsolve(eq, ics={P(0):P0})"
   ]
  },
  {
   "cell_type": "code",
   "execution_count": null,
   "id": "97a4567d",
   "metadata": {},
   "outputs": [],
   "source": []
  }
 ],
 "metadata": {
  "kernelspec": {
   "display_name": "Python 3 (ipykernel)",
   "language": "python",
   "name": "python3"
  },
  "language_info": {
   "codemirror_mode": {
    "name": "ipython",
    "version": 3
   },
   "file_extension": ".py",
   "mimetype": "text/x-python",
   "name": "python",
   "nbconvert_exporter": "python",
   "pygments_lexer": "ipython3",
   "version": "3.9.2"
  }
 },
 "nbformat": 4,
 "nbformat_minor": 5
}
